{
 "cells": [
  {
   "cell_type": "code",
   "execution_count": 1,
   "metadata": {},
   "outputs": [],
   "source": [
    "import pandas as pd\n",
    "import matplotlib.pyplot as plt\n",
    "import seaborn as sns\n",
    "import numpy as np"
   ]
  },
  {
   "cell_type": "markdown",
   "metadata": {},
   "source": [
    "# <b> Project I: </b>Lyft Bikes (BayWheels) Promotion Recommendations"
   ]
  },
  {
   "cell_type": "markdown",
   "metadata": {},
   "source": [
    "## <b>Introduction</b>\n",
    "\n",
    "Founded in August 29, 2013, Lyft's Bay Wheels (formerly Ford GoBike) entered the Bay Area bike share market to compete directly with Uber's JUMP bike share service (founded roughly three years prior in 2010). As a direct competitor to the incumbent, Uber's JUMP, Lyft's own <i>Bay Wheels</i> has a strong incentive to increase ridership and to grow their market share in the bike share service marketplace. To achieve this goals, I conducted an analysis on prior Lyft Bike data (from BayWheel's founding on August 29, 2013 through August 31, 2016, to get a better understanding of the ridership and identify areas of opportunity for growth. \n",
    "\n",
    "For this analysis we want to address 2 main questions:\n",
    "\n",
    "<b>1. What are the 5 most popular trips that we would call \"commuter trips\"? </b> \n",
    "\n",
    "<b>2. What recommendations should Lyft Bikes take to increase their ridership? </b>"
   ]
  },
  {
   "cell_type": "markdown",
   "metadata": {},
   "source": [
    "## <b> Summary </b>\n",
    "### Top 5 Most Popular \"Commuter\" Trips\n",
    "\n",
    "Answering the first of the 2 main questions is imperative to understanding Lyft's Bike ridership. According to the [US Census Bureau report](https://www.census.gov/newsroom/press-releases/2014/cb14-86.html) published on May 08, 2014, there has been a 60% increase in biking to work over the last decade. By understanding the most popular \"commuter\" trips, I can understand Lyft's current state better.\n",
    "\n",
    "I defined a commuter trip as a trip satisfying all of the following requirements:  \n",
    "\n",
    "1. a trip between the hours of 7 AM - 9 AM and 4PM - 6PM during the weekdays (Monday - Friday).  \n",
    "    - This was determined according to a [trip advisor forum post](https://www.tripadvisor.com/ShowTopic-g60713-i30-k2240412-Rush_hour_in_SF-San_Francisco_California.html#:~:text=Typical%20rush%20hour%20times%20are,SFO%20on%20a%20Saturday%2C%20though.) denoting such times as rush hour in the Bay Area  \n",
    "\n",
    "2. a trip not lasting a minimum of 2 minutes and not in excess of 60 minutes\n",
    "    - This was determined according to a post by [mobilitylab.org](https://mobilitylab.org/2017/02/27/how-far-bike-work/) that stated a bike commute to work should be not in excess of 10 miles, roughly a 60 minute bike commute.  \n",
    "\n",
    "3. Having a differing start and end bike station, assuming commuters are traveling in one direction as versus a round trip \n",
    "\n",
    "\n",
    "<b>The Top 5 Most Popular \"Commuter\" Trips are the trips in the below table:</b>"
   ]
  },
  {
   "cell_type": "code",
   "execution_count": 2,
   "metadata": {},
   "outputs": [
    {
     "name": "stdout",
     "output_type": "stream",
     "text": [
      "Waiting on bqjob_r20abdc1b08e46b87_00000174ce27a0ed_1 ... (0s) Current status: DONE   \n"
     ]
    }
   ],
   "source": [
    "! bq query --use_legacy_sql=FALSE --format=csv 'SELECT start_station_name, end_station_name, count(*) as commuter_trips FROM `bike_trip_data.trips_full_commute_pst` WHERE start_date_pst = end_date_pst AND start_station_name <> end_station_name AND duration_sec < 3600 AND duration_sec > 120 AND Commute = \"Yes\" GROUP BY start_station_name, end_station_name ORDER BY commuter_trips DESC LIMIT 5' > top_5_commuter_trips.csv"
   ]
  },
  {
   "cell_type": "code",
   "execution_count": 3,
   "metadata": {},
   "outputs": [
    {
     "data": {
      "text/html": [
       "<div>\n",
       "<style scoped>\n",
       "    .dataframe tbody tr th:only-of-type {\n",
       "        vertical-align: middle;\n",
       "    }\n",
       "\n",
       "    .dataframe tbody tr th {\n",
       "        vertical-align: top;\n",
       "    }\n",
       "\n",
       "    .dataframe thead th {\n",
       "        text-align: right;\n",
       "    }\n",
       "</style>\n",
       "<table border=\"1\" class=\"dataframe\">\n",
       "  <thead>\n",
       "    <tr style=\"text-align: right;\">\n",
       "      <th></th>\n",
       "      <th>start_station_name</th>\n",
       "      <th>end_station_name</th>\n",
       "      <th>commuter_trips</th>\n",
       "    </tr>\n",
       "  </thead>\n",
       "  <tbody>\n",
       "    <tr>\n",
       "      <th>0</th>\n",
       "      <td>2nd at Townsend</td>\n",
       "      <td>Harry Bridges Plaza (Ferry Building)</td>\n",
       "      <td>5336</td>\n",
       "    </tr>\n",
       "    <tr>\n",
       "      <th>1</th>\n",
       "      <td>Harry Bridges Plaza (Ferry Building)</td>\n",
       "      <td>2nd at Townsend</td>\n",
       "      <td>5290</td>\n",
       "    </tr>\n",
       "    <tr>\n",
       "      <th>2</th>\n",
       "      <td>San Francisco Caltrain 2 (330 Townsend)</td>\n",
       "      <td>Townsend at 7th</td>\n",
       "      <td>5180</td>\n",
       "    </tr>\n",
       "    <tr>\n",
       "      <th>3</th>\n",
       "      <td>Embarcadero at Sansome</td>\n",
       "      <td>Steuart at Market</td>\n",
       "      <td>5065</td>\n",
       "    </tr>\n",
       "    <tr>\n",
       "      <th>4</th>\n",
       "      <td>San Francisco Caltrain (Townsend at 4th)</td>\n",
       "      <td>Harry Bridges Plaza (Ferry Building)</td>\n",
       "      <td>4840</td>\n",
       "    </tr>\n",
       "  </tbody>\n",
       "</table>\n",
       "</div>"
      ],
      "text/plain": [
       "                         start_station_name  \\\n",
       "0                           2nd at Townsend   \n",
       "1      Harry Bridges Plaza (Ferry Building)   \n",
       "2   San Francisco Caltrain 2 (330 Townsend)   \n",
       "3                    Embarcadero at Sansome   \n",
       "4  San Francisco Caltrain (Townsend at 4th)   \n",
       "\n",
       "                       end_station_name  commuter_trips  \n",
       "0  Harry Bridges Plaza (Ferry Building)            5336  \n",
       "1                       2nd at Townsend            5290  \n",
       "2                       Townsend at 7th            5180  \n",
       "3                     Steuart at Market            5065  \n",
       "4  Harry Bridges Plaza (Ferry Building)            4840  "
      ]
     },
     "execution_count": 3,
     "metadata": {},
     "output_type": "execute_result"
    }
   ],
   "source": [
    "top_5 = pd.read_csv('top_5_commuter_trips.csv')\n",
    "top_5"
   ]
  },
  {
   "cell_type": "markdown",
   "metadata": {},
   "source": [
    "## <b>Final Recommendation</b>"
   ]
  },
  {
   "cell_type": "markdown",
   "metadata": {},
   "source": [
    "#### Upon conclusion of my analysis, I recommend Lyft offer the following promotion cycle:"
   ]
  },
  {
   "cell_type": "markdown",
   "metadata": {},
   "source": [
    "#### <b>Lyft Bikes should increase and add promotions to offer monthly subscriptions to current customers who take Lyft bikes on the weekends. Additionally, Lyft should advertise the top 5 most popular non-commuter rides that subscribers have taken from the customer's geographic landmark. </b> \n",
    "- New bike trip recommendations would provides 5 new bike trips that they can try, allowing individuals who enjoyed their Lyft Bike experience to feel more compelled to purchase a subscription and complete these suggested trips."
   ]
  },
  {
   "cell_type": "markdown",
   "metadata": {},
   "source": [
    "## Data Analysis\n"
   ]
  },
  {
   "cell_type": "markdown",
   "metadata": {},
   "source": [
    "To justify the recommendations above, I began by taking a looking at the current distribution of riders in the dataset. I wanted to see when Lyft Bikes were the most busy and where Lyft Bikes were the least busy to understand where there is the most opportunity for growth and if there are any constraints that may prevent certain promotions from being effective. \n",
    "\n",
    "<i>I defined the event of being busy as the event that at any given status check there is a low availability of bikes, where less that 25% of bikes are available for rental at any given station.</i>"
   ]
  },
  {
   "cell_type": "markdown",
   "metadata": {},
   "source": [
    "### <b> Plotting Busy Lyft Bikes' Days</b>\n",
    "\n",
    "### Overall Business (Subscribers and Customers)"
   ]
  },
  {
   "cell_type": "code",
   "execution_count": 4,
   "metadata": {},
   "outputs": [
    {
     "name": "stdout",
     "output_type": "stream",
     "text": [
      "Waiting on bqjob_r8c078433f840805_00000174ce27a866_1 ... (0s) Current status: DONE   \n"
     ]
    }
   ],
   "source": [
    "! bq query --use_legacy_sql=False --format=csv 'SELECT status_check_day_of_week AS day_of_week, COUNT(status_check_date) AS no_of_low_availability FROM `bike_trip_data.status_w_availability` WHERE bike_availability = \"low\" GROUP BY status_check_day_of_week ORDER BY no_of_low_availability' > ride_freq_dow.csv"
   ]
  },
  {
   "cell_type": "code",
   "execution_count": 5,
   "metadata": {},
   "outputs": [
    {
     "data": {
      "image/png": "[encoded data removed]",
      "text/plain": [
       "<Figure size 720x360 with 1 Axes>"
      ]
     },
     "metadata": {
      "needs_background": "light"
     },
     "output_type": "display_data"
    }
   ],
   "source": [
    "availability_dow = pd.read_csv('ride_freq_dow.csv')\n",
    "plt.figure(figsize = (10,5))\n",
    "plt.bar(availability_dow.day_of_week, availability_dow.no_of_low_availability, color = 'm')\n",
    "plt.ylim(0,np.max(availability_dow.no_of_low_availability)+40000)\n",
    "plt.yticks(np.arange(0, np.max(availability_dow.no_of_low_availability)+40000, 500000))\n",
    "plt.ylabel('Number of Busy Status Checks (in Millions)')\n",
    "plt.xlabel('Day of the Week')\n",
    "plt.title('Lyft Bike: Number of Busy Events Per Day of the Week (Overall Users)')\n",
    "plt.show()"
   ]
  },
  {
   "cell_type": "markdown",
   "metadata": {},
   "source": [
    "<b> Analysis: </b> While this is really helpful, we need to dig even deeper to understand when customers are taking bike rides to understand when it is most effective to target them for promotions and advertising. I decided to look at Customer Bike Ride Frequencies next in order to see when there were the most customers riding bikes."
   ]
  },
  {
   "cell_type": "markdown",
   "metadata": {},
   "source": [
    "### <b> Customer Bike Ride Frequency </b>"
   ]
  },
  {
   "cell_type": "code",
   "execution_count": 6,
   "metadata": {},
   "outputs": [
    {
     "name": "stdout",
     "output_type": "stream",
     "text": [
      "Waiting on bqjob_rff8a107eb210acd_00000174ce27b003_1 ... (0s) Current status: DONE   \n"
     ]
    }
   ],
   "source": [
    "! bq query --use_legacy_sql=False --format=csv 'SELECT start_day_of_week, COUNT(distinct pst_trip_id) AS number_of_trips FROM `bike_trip_data.trips_full_commute_pst`  WHERE subscriber_type = \"Customer\" GROUP BY start_day_of_week ORDER BY number_of_trips DESC' > sub_trips.csv"
   ]
  },
  {
   "cell_type": "code",
   "execution_count": 7,
   "metadata": {},
   "outputs": [
    {
     "data": {
      "image/png": "[encoded data removed]",
      "text/plain": [
       "<Figure size 720x360 with 1 Axes>"
      ]
     },
     "metadata": {
      "needs_background": "light"
     },
     "output_type": "display_data"
    }
   ],
   "source": [
    "sub_trips = pd.read_csv('sub_trips.csv')\n",
    "plt.figure(figsize=(10,5))\n",
    "plt.bar(sub_trips.start_day_of_week, sub_trips.number_of_trips, color = 'm')\n",
    "plt.ylabel('Number of Customer Bike Rides')\n",
    "plt.xlabel('Day of Week')\n",
    "plt.title('Lyft Bike Growth Opportunity: Customer Bike Ride Frequencies By Day of Week')\n",
    "plt.show()"
   ]
  },
  {
   "cell_type": "markdown",
   "metadata": {},
   "source": [
    "As you can see from the graph, there are significantly less status checks with less than 25% of bikes available to ride on the weekend (Saturday & Sunday). There were also a  relatively high frequency of status checks that had low bike availability during the weekdays. Therefore I don't see having promotions catered towards customers during the weekday as an effective promotion campaign because the weekdays have more low availability events which means that there would be less opportunity for subscribers to get a bike rental during the week than during the weekend. <b>Therefore, I recommend having promotional campaigns for users to sign up for a monthly subscription of Lyft Bikes during the weekend.</b> Having a promotion during the weekend allows for:\n",
    "- a higher likelihood that new subscribers will have a positive experience with Lyft Bikes because of increased bike availability and therefore, increased bike selection options\n",
    "- Greater opportunity to grow ridership because of more bike trips by Customers during the weekend\n",
    "    - <u><i>Figure 2</i></u> shows the highest volume of Customer Bike Rides on the weekends. Promotions targeting Customers will be most effective here as Customers are the most active renting Lyft Bikes during the weekend."
   ]
  },
  {
   "cell_type": "markdown",
   "metadata": {},
   "source": [
    "## Trip Recommendations to Incentivize Potential Subscribers"
   ]
  },
  {
   "cell_type": "markdown",
   "metadata": {},
   "source": [
    "<b>By providing 5 new trip ideas that a potential subscriber may be interested in based on their geographic location, Lyft can customize their user's experience and incentivize additional trips through a subscription.</b> To provide the most accurate recommendation of the next 5 potential trips, I subset the data to only include subscribers that took trips on the weekends in the landmark areas near the customer's end station. This filters out commuter trips that maybe irrelevant to the potential subscriber and trips that would require additional travel farther from a customer's current location. This would subset the trip routes to only those that are more likely to be nearby leisure trips than work commutes; increasing the likelihood that a trip will be enjoyable for the weekend customer."
   ]
  },
  {
   "cell_type": "markdown",
   "metadata": {},
   "source": [
    "Each of theses trips are between 15 - 30 minutes one way, allowing customers to feel incentivized to purchase a monthly subscription because of the short trip duration and the popularity of these short getaways with Lyft Bike subscribers. This may incentivize some to purchase monthly subscriptions as a way to \"get in on the fun\" that Lyft Bike subscribers have."
   ]
  },
  {
   "cell_type": "markdown",
   "metadata": {},
   "source": [
    "## Top 5 Trips in:"
   ]
  },
  {
   "cell_type": "markdown",
   "metadata": {},
   "source": [
    "### Redwood City"
   ]
  },
  {
   "cell_type": "code",
   "execution_count": 8,
   "metadata": {},
   "outputs": [
    {
     "name": "stdout",
     "output_type": "stream",
     "text": [
      "Waiting on bqjob_r1c765f15ac39a11_00000174ce27b785_1 ... (0s) Current status: DONE   \n"
     ]
    },
    {
     "data": {
      "text/html": [
       "<div>\n",
       "<style scoped>\n",
       "    .dataframe tbody tr th:only-of-type {\n",
       "        vertical-align: middle;\n",
       "    }\n",
       "\n",
       "    .dataframe tbody tr th {\n",
       "        vertical-align: top;\n",
       "    }\n",
       "\n",
       "    .dataframe thead th {\n",
       "        text-align: right;\n",
       "    }\n",
       "</style>\n",
       "<table border=\"1\" class=\"dataframe\">\n",
       "  <thead>\n",
       "    <tr style=\"text-align: right;\">\n",
       "      <th></th>\n",
       "      <th>Start Station</th>\n",
       "      <th>End Station</th>\n",
       "      <th>Number of Subscribers Trip</th>\n",
       "    </tr>\n",
       "  </thead>\n",
       "  <tbody>\n",
       "    <tr>\n",
       "      <th>0</th>\n",
       "      <td>Stanford in Redwood City</td>\n",
       "      <td>Redwood City Caltrain Station</td>\n",
       "      <td>152</td>\n",
       "    </tr>\n",
       "    <tr>\n",
       "      <th>1</th>\n",
       "      <td>Redwood City Caltrain Station</td>\n",
       "      <td>Stanford in Redwood City</td>\n",
       "      <td>100</td>\n",
       "    </tr>\n",
       "    <tr>\n",
       "      <th>2</th>\n",
       "      <td>Palo Alto Caltrain Station</td>\n",
       "      <td>Stanford in Redwood City</td>\n",
       "      <td>63</td>\n",
       "    </tr>\n",
       "    <tr>\n",
       "      <th>3</th>\n",
       "      <td>San Mateo County Center</td>\n",
       "      <td>Redwood City Caltrain Station</td>\n",
       "      <td>16</td>\n",
       "    </tr>\n",
       "    <tr>\n",
       "      <th>4</th>\n",
       "      <td>Stanford in Redwood City</td>\n",
       "      <td>Redwood City Public Library</td>\n",
       "      <td>11</td>\n",
       "    </tr>\n",
       "  </tbody>\n",
       "</table>\n",
       "</div>"
      ],
      "text/plain": [
       "                   Start Station                    End Station  \\\n",
       "0       Stanford in Redwood City  Redwood City Caltrain Station   \n",
       "1  Redwood City Caltrain Station       Stanford in Redwood City   \n",
       "2     Palo Alto Caltrain Station       Stanford in Redwood City   \n",
       "3        San Mateo County Center  Redwood City Caltrain Station   \n",
       "4       Stanford in Redwood City    Redwood City Public Library   \n",
       "\n",
       "   Number of Subscribers Trip  \n",
       "0                         152  \n",
       "1                         100  \n",
       "2                          63  \n",
       "3                          16  \n",
       "4                          11  "
      ]
     },
     "execution_count": 8,
     "metadata": {},
     "output_type": "execute_result"
    }
   ],
   "source": [
    "! bq query --use_legacy_sql=False --format=csv 'SELECT start_station_name, end_station_name, COUNT(*) AS subscriber_trips FROM `bike_trip_data.end_trip_landmarks`  WHERE start_date_pst = end_date_pst AND start_station_name <> end_station_name AND duration_sec <= 1800 AND duration_sec >= 900 AND landmark = \"Redwood City\" GROUP BY start_station_name, end_station_name ORDER BY subscriber_trips DESC LIMIT 5' > redwood_city_top_5.csv\n",
    "rwc = pd.read_csv('redwood_city_top_5.csv')\n",
    "rwc.columns = ['Start Station', 'End Station', 'Number of Subscribers Trip']\n",
    "rwc"
   ]
  },
  {
   "cell_type": "markdown",
   "metadata": {},
   "source": [
    "### San Jose"
   ]
  },
  {
   "cell_type": "code",
   "execution_count": 9,
   "metadata": {},
   "outputs": [
    {
     "name": "stdout",
     "output_type": "stream",
     "text": [
      "Waiting on bqjob_r48c35896f42ade6c_00000174ce27be89_1 ... (0s) Current status: DONE   \n"
     ]
    },
    {
     "data": {
      "text/html": [
       "<div>\n",
       "<style scoped>\n",
       "    .dataframe tbody tr th:only-of-type {\n",
       "        vertical-align: middle;\n",
       "    }\n",
       "\n",
       "    .dataframe tbody tr th {\n",
       "        vertical-align: top;\n",
       "    }\n",
       "\n",
       "    .dataframe thead th {\n",
       "        text-align: right;\n",
       "    }\n",
       "</style>\n",
       "<table border=\"1\" class=\"dataframe\">\n",
       "  <thead>\n",
       "    <tr style=\"text-align: right;\">\n",
       "      <th></th>\n",
       "      <th>Start Station</th>\n",
       "      <th>End Station</th>\n",
       "      <th>Number of Subscribers Trip</th>\n",
       "    </tr>\n",
       "  </thead>\n",
       "  <tbody>\n",
       "    <tr>\n",
       "      <th>0</th>\n",
       "      <td>Japantown</td>\n",
       "      <td>San Jose Diridon Caltrain Station</td>\n",
       "      <td>212</td>\n",
       "    </tr>\n",
       "    <tr>\n",
       "      <th>1</th>\n",
       "      <td>San Jose Diridon Caltrain Station</td>\n",
       "      <td>Japantown</td>\n",
       "      <td>180</td>\n",
       "    </tr>\n",
       "    <tr>\n",
       "      <th>2</th>\n",
       "      <td>San Jose Diridon Caltrain Station</td>\n",
       "      <td>San Jose City Hall</td>\n",
       "      <td>125</td>\n",
       "    </tr>\n",
       "    <tr>\n",
       "      <th>3</th>\n",
       "      <td>San Jose Diridon Caltrain Station</td>\n",
       "      <td>SJSU - San Salvador at 9th</td>\n",
       "      <td>96</td>\n",
       "    </tr>\n",
       "    <tr>\n",
       "      <th>4</th>\n",
       "      <td>SJSU - San Salvador at 9th</td>\n",
       "      <td>San Jose Diridon Caltrain Station</td>\n",
       "      <td>87</td>\n",
       "    </tr>\n",
       "  </tbody>\n",
       "</table>\n",
       "</div>"
      ],
      "text/plain": [
       "                       Start Station                        End Station  \\\n",
       "0                          Japantown  San Jose Diridon Caltrain Station   \n",
       "1  San Jose Diridon Caltrain Station                          Japantown   \n",
       "2  San Jose Diridon Caltrain Station                 San Jose City Hall   \n",
       "3  San Jose Diridon Caltrain Station         SJSU - San Salvador at 9th   \n",
       "4         SJSU - San Salvador at 9th  San Jose Diridon Caltrain Station   \n",
       "\n",
       "   Number of Subscribers Trip  \n",
       "0                         212  \n",
       "1                         180  \n",
       "2                         125  \n",
       "3                          96  \n",
       "4                          87  "
      ]
     },
     "execution_count": 9,
     "metadata": {},
     "output_type": "execute_result"
    }
   ],
   "source": [
    "! bq query --use_legacy_sql=False --format=csv 'SELECT start_station_name, end_station_name, COUNT(*) AS subscriber_trips FROM `bike_trip_data.end_trip_landmarks`  WHERE start_date_pst = end_date_pst AND start_station_name <> end_station_name AND duration_sec <= 1800 AND duration_sec >= 900 AND landmark = \"San Jose\" GROUP BY start_station_name, end_station_name ORDER BY subscriber_trips DESC LIMIT 5' > san_jose_top_5.csv\n",
    "sj = pd.read_csv('san_jose_top_5.csv')\n",
    "sj.columns = ['Start Station', 'End Station', 'Number of Subscribers Trip']\n",
    "sj"
   ]
  },
  {
   "cell_type": "markdown",
   "metadata": {},
   "source": [
    "### San Francisco"
   ]
  },
  {
   "cell_type": "code",
   "execution_count": 10,
   "metadata": {},
   "outputs": [
    {
     "name": "stdout",
     "output_type": "stream",
     "text": [
      "Waiting on bqjob_r2fcd7285f26dee2e_00000174ce27c62d_1 ... (0s) Current status: DONE   \n"
     ]
    },
    {
     "data": {
      "text/html": [
       "<div>\n",
       "<style scoped>\n",
       "    .dataframe tbody tr th:only-of-type {\n",
       "        vertical-align: middle;\n",
       "    }\n",
       "\n",
       "    .dataframe tbody tr th {\n",
       "        vertical-align: top;\n",
       "    }\n",
       "\n",
       "    .dataframe thead th {\n",
       "        text-align: right;\n",
       "    }\n",
       "</style>\n",
       "<table border=\"1\" class=\"dataframe\">\n",
       "  <thead>\n",
       "    <tr style=\"text-align: right;\">\n",
       "      <th></th>\n",
       "      <th>Start Station</th>\n",
       "      <th>End Station</th>\n",
       "      <th>Number of Subscribers Trip</th>\n",
       "    </tr>\n",
       "  </thead>\n",
       "  <tbody>\n",
       "    <tr>\n",
       "      <th>0</th>\n",
       "      <td>Embarcadero at Sansome</td>\n",
       "      <td>San Francisco Caltrain (Townsend at 4th)</td>\n",
       "      <td>1537</td>\n",
       "    </tr>\n",
       "    <tr>\n",
       "      <th>1</th>\n",
       "      <td>San Francisco Caltrain (Townsend at 4th)</td>\n",
       "      <td>Embarcadero at Sansome</td>\n",
       "      <td>1468</td>\n",
       "    </tr>\n",
       "    <tr>\n",
       "      <th>2</th>\n",
       "      <td>Harry Bridges Plaza (Ferry Building)</td>\n",
       "      <td>Embarcadero at Sansome</td>\n",
       "      <td>1423</td>\n",
       "    </tr>\n",
       "    <tr>\n",
       "      <th>3</th>\n",
       "      <td>Clay at Battery</td>\n",
       "      <td>San Francisco Caltrain (Townsend at 4th)</td>\n",
       "      <td>1310</td>\n",
       "    </tr>\n",
       "    <tr>\n",
       "      <th>4</th>\n",
       "      <td>Harry Bridges Plaza (Ferry Building)</td>\n",
       "      <td>San Francisco Caltrain (Townsend at 4th)</td>\n",
       "      <td>1192</td>\n",
       "    </tr>\n",
       "  </tbody>\n",
       "</table>\n",
       "</div>"
      ],
      "text/plain": [
       "                              Start Station  \\\n",
       "0                    Embarcadero at Sansome   \n",
       "1  San Francisco Caltrain (Townsend at 4th)   \n",
       "2      Harry Bridges Plaza (Ferry Building)   \n",
       "3                           Clay at Battery   \n",
       "4      Harry Bridges Plaza (Ferry Building)   \n",
       "\n",
       "                                End Station  Number of Subscribers Trip  \n",
       "0  San Francisco Caltrain (Townsend at 4th)                        1537  \n",
       "1                    Embarcadero at Sansome                        1468  \n",
       "2                    Embarcadero at Sansome                        1423  \n",
       "3  San Francisco Caltrain (Townsend at 4th)                        1310  \n",
       "4  San Francisco Caltrain (Townsend at 4th)                        1192  "
      ]
     },
     "execution_count": 10,
     "metadata": {},
     "output_type": "execute_result"
    }
   ],
   "source": [
    "! bq query --use_legacy_sql=False --format=csv 'SELECT start_station_name, end_station_name, COUNT(*) AS subscriber_trips FROM `bike_trip_data.end_trip_landmarks`  WHERE start_date_pst = end_date_pst AND start_station_name <> end_station_name AND duration_sec <= 1800 AND duration_sec >= 900 AND landmark = \"San Francisco\" GROUP BY start_station_name, end_station_name ORDER BY subscriber_trips DESC LIMIT 5' > san_francisco_top_5.csv\n",
    "sf = pd.read_csv('san_francisco_top_5.csv')\n",
    "sf.columns = ['Start Station', 'End Station', 'Number of Subscribers Trip']\n",
    "sf"
   ]
  },
  {
   "cell_type": "markdown",
   "metadata": {},
   "source": [
    "### Palo Alto"
   ]
  },
  {
   "cell_type": "code",
   "execution_count": 11,
   "metadata": {},
   "outputs": [
    {
     "name": "stdout",
     "output_type": "stream",
     "text": [
      "Waiting on bqjob_r47488fe31138fd73_00000174ce27cd03_1 ... (0s) Current status: DONE   \n"
     ]
    },
    {
     "data": {
      "text/html": [
       "<div>\n",
       "<style scoped>\n",
       "    .dataframe tbody tr th:only-of-type {\n",
       "        vertical-align: middle;\n",
       "    }\n",
       "\n",
       "    .dataframe tbody tr th {\n",
       "        vertical-align: top;\n",
       "    }\n",
       "\n",
       "    .dataframe thead th {\n",
       "        text-align: right;\n",
       "    }\n",
       "</style>\n",
       "<table border=\"1\" class=\"dataframe\">\n",
       "  <thead>\n",
       "    <tr style=\"text-align: right;\">\n",
       "      <th></th>\n",
       "      <th>Start Station</th>\n",
       "      <th>End Station</th>\n",
       "      <th>Number of Subscribers Trip</th>\n",
       "    </tr>\n",
       "  </thead>\n",
       "  <tbody>\n",
       "    <tr>\n",
       "      <th>0</th>\n",
       "      <td>Park at Olive</td>\n",
       "      <td>Palo Alto Caltrain Station</td>\n",
       "      <td>223</td>\n",
       "    </tr>\n",
       "    <tr>\n",
       "      <th>1</th>\n",
       "      <td>California Ave Caltrain Station</td>\n",
       "      <td>University and Emerson</td>\n",
       "      <td>168</td>\n",
       "    </tr>\n",
       "    <tr>\n",
       "      <th>2</th>\n",
       "      <td>Cowper at University</td>\n",
       "      <td>California Ave Caltrain Station</td>\n",
       "      <td>120</td>\n",
       "    </tr>\n",
       "    <tr>\n",
       "      <th>3</th>\n",
       "      <td>California Ave Caltrain Station</td>\n",
       "      <td>Cowper at University</td>\n",
       "      <td>114</td>\n",
       "    </tr>\n",
       "    <tr>\n",
       "      <th>4</th>\n",
       "      <td>Park at Olive</td>\n",
       "      <td>University and Emerson</td>\n",
       "      <td>113</td>\n",
       "    </tr>\n",
       "  </tbody>\n",
       "</table>\n",
       "</div>"
      ],
      "text/plain": [
       "                     Start Station                      End Station  \\\n",
       "0                    Park at Olive       Palo Alto Caltrain Station   \n",
       "1  California Ave Caltrain Station           University and Emerson   \n",
       "2             Cowper at University  California Ave Caltrain Station   \n",
       "3  California Ave Caltrain Station             Cowper at University   \n",
       "4                    Park at Olive           University and Emerson   \n",
       "\n",
       "   Number of Subscribers Trip  \n",
       "0                         223  \n",
       "1                         168  \n",
       "2                         120  \n",
       "3                         114  \n",
       "4                         113  "
      ]
     },
     "execution_count": 11,
     "metadata": {},
     "output_type": "execute_result"
    }
   ],
   "source": [
    "! bq query --use_legacy_sql=False --format=csv 'SELECT start_station_name, end_station_name, COUNT(*) AS subscriber_trips FROM `bike_trip_data.end_trip_landmarks`  WHERE start_date_pst = end_date_pst AND start_station_name <> end_station_name AND duration_sec <= 1800 AND duration_sec >= 900 AND landmark = \"Palo Alto\" GROUP BY start_station_name, end_station_name ORDER BY subscriber_trips DESC LIMIT 5' > palo_alto_top_5.csv\n",
    "pa = pd.read_csv('palo_alto_top_5.csv')\n",
    "pa.columns = ['Start Station', 'End Station', 'Number of Subscribers Trip']\n",
    "pa"
   ]
  },
  {
   "cell_type": "markdown",
   "metadata": {},
   "source": [
    "### Mountain View"
   ]
  },
  {
   "cell_type": "code",
   "execution_count": 12,
   "metadata": {},
   "outputs": [
    {
     "name": "stdout",
     "output_type": "stream",
     "text": [
      "Waiting on bqjob_rc39906424841dc3_00000174ce27d41d_1 ... (0s) Current status: DONE   \n"
     ]
    },
    {
     "data": {
      "text/html": [
       "<div>\n",
       "<style scoped>\n",
       "    .dataframe tbody tr th:only-of-type {\n",
       "        vertical-align: middle;\n",
       "    }\n",
       "\n",
       "    .dataframe tbody tr th {\n",
       "        vertical-align: top;\n",
       "    }\n",
       "\n",
       "    .dataframe thead th {\n",
       "        text-align: right;\n",
       "    }\n",
       "</style>\n",
       "<table border=\"1\" class=\"dataframe\">\n",
       "  <thead>\n",
       "    <tr style=\"text-align: right;\">\n",
       "      <th></th>\n",
       "      <th>Start Station</th>\n",
       "      <th>End Station</th>\n",
       "      <th>Number of Subscribers Trip</th>\n",
       "    </tr>\n",
       "  </thead>\n",
       "  <tbody>\n",
       "    <tr>\n",
       "      <th>0</th>\n",
       "      <td>Mountain View Caltrain Station</td>\n",
       "      <td>San Antonio Shopping Center</td>\n",
       "      <td>138</td>\n",
       "    </tr>\n",
       "    <tr>\n",
       "      <th>1</th>\n",
       "      <td>Mountain View Caltrain Station</td>\n",
       "      <td>San Antonio Caltrain Station</td>\n",
       "      <td>95</td>\n",
       "    </tr>\n",
       "    <tr>\n",
       "      <th>2</th>\n",
       "      <td>Charleston Park/ North Bayshore Area</td>\n",
       "      <td>Mountain View Caltrain Station</td>\n",
       "      <td>93</td>\n",
       "    </tr>\n",
       "    <tr>\n",
       "      <th>3</th>\n",
       "      <td>San Antonio Shopping Center</td>\n",
       "      <td>Mountain View Caltrain Station</td>\n",
       "      <td>85</td>\n",
       "    </tr>\n",
       "    <tr>\n",
       "      <th>4</th>\n",
       "      <td>Mountain View Caltrain Station</td>\n",
       "      <td>Charleston Park/ North Bayshore Area</td>\n",
       "      <td>83</td>\n",
       "    </tr>\n",
       "  </tbody>\n",
       "</table>\n",
       "</div>"
      ],
      "text/plain": [
       "                          Start Station                           End Station  \\\n",
       "0        Mountain View Caltrain Station           San Antonio Shopping Center   \n",
       "1        Mountain View Caltrain Station          San Antonio Caltrain Station   \n",
       "2  Charleston Park/ North Bayshore Area        Mountain View Caltrain Station   \n",
       "3           San Antonio Shopping Center        Mountain View Caltrain Station   \n",
       "4        Mountain View Caltrain Station  Charleston Park/ North Bayshore Area   \n",
       "\n",
       "   Number of Subscribers Trip  \n",
       "0                         138  \n",
       "1                          95  \n",
       "2                          93  \n",
       "3                          85  \n",
       "4                          83  "
      ]
     },
     "execution_count": 12,
     "metadata": {},
     "output_type": "execute_result"
    }
   ],
   "source": [
    "! bq query --use_legacy_sql=False --format=csv 'SELECT start_station_name, end_station_name, COUNT(*) AS subscriber_trips FROM `bike_trip_data.end_trip_landmarks`  WHERE start_date_pst = end_date_pst AND start_station_name <> end_station_name AND duration_sec <= 1800 AND duration_sec >= 900 AND landmark = \"Mountain View\" GROUP BY start_station_name, end_station_name ORDER BY subscriber_trips DESC LIMIT 5' > mountain_view_top_5.csv\n",
    "mv = pd.read_csv('mountain_view_top_5.csv')\n",
    "mv.columns = ['Start Station', 'End Station', 'Number of Subscribers Trip']\n",
    "mv"
   ]
  },
  {
   "cell_type": "markdown",
   "metadata": {},
   "source": [
    "# <b>Appendix</b>"
   ]
  },
  {
   "cell_type": "markdown",
   "metadata": {},
   "source": [
    "### SQL Subquery Views Used in Google BigQuery in Project 1:"
   ]
  },
  {
   "cell_type": "markdown",
   "metadata": {},
   "source": [
    "1. `bike_trip_data.trips_full_commute_pst`\n",
    "\n",
    "``` sql\n",
    "SELECT\n",
    "  trip_id AS pst_trip_id,\n",
    "  DATE(start_date) AS start_date_pst,\n",
    "  TIME(start_date) AS start_time_pst,\n",
    "  CASE\n",
    "    WHEN EXTRACT(HOUR FROM TIME(start_date)) >= 4 AND EXTRACT(HOUR FROM TIME(start_date)) < 12 THEN 'Morning'\n",
    "    WHEN EXTRACT(HOUR FROM TIME(start_date)) >= 12 AND EXTRACT(HOUR FROM TIME(start_date)) < 18 THEN 'Afternoon'\n",
    "    WHEN EXTRACT(HOUR FROM TIME(start_date)) >= 18 AND EXTRACT(HOUR FROM TIME(start_date)) < 24 THEN 'Evening'\n",
    "    ELSE 'Midnight'\n",
    "    END AS start_time_of_day,\n",
    "  CASE EXTRACT (DAYOFWEEK FROM DATE(start_date))\n",
    "    WHEN 1 THEN 'Sunday'\n",
    "    WHEN 2 THEN 'Monday'\n",
    "    WHEN 3 THEN 'Tuesday'\n",
    "    WHEN 4 THEN 'Wednesday'\n",
    "    WHEN 5 THEN 'Thursday'\n",
    "    WHEN 6 THEN 'Friday'\n",
    "    WHEN 7 THEN 'Saturday'\n",
    "    END AS start_day_of_week,\n",
    "  CASE\n",
    "    WHEN EXTRACT(DAYOFWEEK FROM DATE(start_date)) NOT IN (1, 7) THEN 'Weekday'\n",
    "    ELSE 'Weekend'\n",
    "    END AS start_weekday,\n",
    "  DATE(end_date) AS end_date_pst,\n",
    "  TIME(end_date) AS end_time_pst,\n",
    "  CASE\n",
    "    WHEN EXTRACT(HOUR FROM TIME(end_date)) >= 4 AND EXTRACT(HOUR FROM TIME(end_date)) < 12 THEN 'Morning'\n",
    "    WHEN EXTRACT(HOUR FROM TIME(end_date)) >= 12 AND EXTRACT(HOUR FROM TIME(end_date)) < 18 THEN 'Afternoon'\n",
    "    WHEN EXTRACT(HOUR FROM TIME(end_date)) >= 18 AND EXTRACT(HOUR FROM TIME(end_date)) < 24 THEN 'Evening'\n",
    "    ELSE 'Midnight'\n",
    "    END AS end_time_of_day,\n",
    "  CASE EXTRACT (DAYOFWEEK FROM DATE(end_date))\n",
    "    WHEN 1 THEN 'Sunday'\n",
    "    WHEN 2 THEN 'Monday'\n",
    "    WHEN 3 THEN 'Tuesday'\n",
    "    WHEN 4 THEN 'Wednesday'\n",
    "    WHEN 5 THEN 'Thursday'\n",
    "    WHEN 6 THEN 'Friday'\n",
    "    WHEN 7 THEN 'Saturday'\n",
    "    END AS end_day_of_week,\n",
    "  CASE\n",
    "    WHEN EXTRACT(DAYOFWEEK FROM DATE(end_date)) NOT IN (1, 7) THEN 'Weekday'\n",
    "    ELSE 'Weekend'\n",
    "    END AS end_weekday,\n",
    "  CASE\n",
    "    WHEN EXTRACT (HOUR FROM TIME(start_date)) IN (7, 8, 9) THEN 'AM'\n",
    "    WHEN EXTRACT (HOUR FROM TIME(start_date)) IN (16, 17, 18) THEN 'PM'\n",
    "    ELSE 'Not Commute'\n",
    "    END AS ampm_commute,\n",
    "  CASE\n",
    "    WHEN EXTRACT (HOUR FROM TIME(start_date)) IN (7, 8, 9) THEN 'Yes'\n",
    "    WHEN EXTRACT (HOUR FROM TIME(start_date)) IN (16, 17, 18) THEN 'Yes'\n",
    "    ELSE 'No'\n",
    "    END AS commute,\n",
    "  start_station_name,\n",
    "  start_station_id,\n",
    "  end_station_name,\n",
    "  end_station_id,\n",
    "  zip_code,\n",
    "  duration_sec,\n",
    "  subscriber_type,\n",
    "FROM\n",
    "  `bigquery-public-data.san_francisco.bikeshare_trips`;\n",
    "```"
   ]
  },
  {
   "cell_type": "markdown",
   "metadata": {},
   "source": [
    "2. `bike_trip_data.status_w_availability`\n",
    "\n",
    "```sql\n",
    "SELECT station_id, \n",
    "       DATE(time) AS status_check_date,\n",
    "       TIME(time) AS status_check_time,\n",
    "       CASE EXTRACT (DAYOFWEEK FROM DATE(time))\n",
    "           WHEN 1 THEN 'Sunday'\n",
    "           WHEN 2 THEN 'Monday'\n",
    "           WHEN 3 THEN 'Tuesday'\n",
    "           WHEN 4 THEN 'Wednesday'\n",
    "           WHEN 5 THEN 'Thursday'\n",
    "           WHEN 6 THEN 'Friday'\n",
    "           WHEN 7 THEN 'Saturday'\n",
    "           END AS status_check_day_of_week,\n",
    "       docks_available, bikes_available,\n",
    "       (docks_available + bikes_available) AS total_bikes,\n",
    "       CASE\n",
    "           WHEN bikes_available = 0 AND docks_available = 0 THEN 'NA'\n",
    "           WHEN bikes_available / (docks_available + bikes_available) < 0.25 THEN 'low'\n",
    "           ELSE 'high'\n",
    "           END AS bike_availability,\n",
    "FROM `bigquery-public-data.san_francisco.bikeshare_status`\n",
    "```"
   ]
  },
  {
   "cell_type": "markdown",
   "metadata": {},
   "source": [
    "3. `bike_trip_data.end_trip_landmarks`\n",
    "\n",
    "```sql\n",
    "SELECT *\n",
    "FROM `bike_trip_data.trips_full_commute_pst` AS trips\n",
    "INNER JOIN (SELECT station_id, landmark FROM `bigquery-public-data.san_francisco.bikeshare_stations`) AS stations\n",
    "ON trips.end_station_id = stations.station_id\n",
    "```"
   ]
  },
  {
   "cell_type": "markdown",
   "metadata": {},
   "source": [
    "4. `bike_trip_data.trips_seasons_year`\n",
    "\n",
    "```sql\n",
    "SELECT pst_trip_id, start_date_pst, start_time_pst, end_date_pst, end_time_pst, subscriber_type,\n",
    "  EXTRACT(YEAR FROM start_date_pst) AS year,\n",
    "  CASE\n",
    "    WHEN EXTRACT(MONTH FROM start_date_pst) IN (12, 1, 2) THEN 'Winter'\n",
    "    WHEN EXTRACT(MONTH FROM start_date_pst) IN (3, 4, 5) THEN 'Spring'\n",
    "    WHEN EXTRACT(MONTH FROM start_date_pst) IN (6, 7, 8) THEN 'Summer'\n",
    "    WHEN EXTRACT(MONTH FROM start_date_pst) IN (9, 10, 11) THEN 'Fall'\n",
    "    ELSE 'NA'\n",
    "    END AS start_date_month,\n",
    "FROM `bike_trip_data.trips_full_commute_pst`;\n",
    "```"
   ]
  }
 ],
 "metadata": {
  "environment": {
   "name": "tf2-2-3-gpu.2-3.m55",
   "type": "gcloud",
   "uri": "gcr.io/deeplearning-platform-release/tf2-2-3-gpu.2-3:m55"
  },
  "kernelspec": {
   "display_name": "Python 3",
   "language": "python",
   "name": "python3"
  },
  "language_info": {
   "codemirror_mode": {
    "name": "ipython",
    "version": 3
   },
   "file_extension": ".py",
   "mimetype": "text/x-python",
   "name": "python",
   "nbconvert_exporter": "python",
   "pygments_lexer": "ipython3",
   "version": "3.7.8"
  }
 },
 "nbformat": 4,
 "nbformat_minor": 4
}
